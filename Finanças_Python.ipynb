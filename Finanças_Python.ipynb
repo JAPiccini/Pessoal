{
  "nbformat": 4,
  "nbformat_minor": 0,
  "metadata": {
    "colab": {
      "provenance": [],
      "authorship_tag": "ABX9TyNBYovMFKkSCT9OyTzynhXA"
    },
    "kernelspec": {
      "name": "python3",
      "display_name": "Python 3"
    },
    "language_info": {
      "name": "python"
    }
  },
  "cells": [
    {
      "cell_type": "markdown",
      "source": [
        "## **Bibliotecas**"
      ],
      "metadata": {
        "id": "qoDTc5g0cPLb"
      }
    },
    {
      "cell_type": "code",
      "execution_count": 1,
      "metadata": {
        "id": "T6zZJxxcJdMc",
        "colab": {
          "base_uri": "https://localhost:8080/"
        },
        "outputId": "4fdae4fc-bdb7-4382-b8c6-e0d6399729d0"
      },
      "outputs": [
        {
          "output_type": "stream",
          "name": "stderr",
          "text": [
            "[*********************100%%**********************]  6 of 6 completed\n"
          ]
        }
      ],
      "source": [
        "import yfinance as yf\n",
        "import pandas as pd\n",
        "import numpy as np\n",
        "from pandas_datareader import data\n",
        "import matplotlib.pyplot as plt\n",
        "import seaborn as sns\n",
        "import plotly.express as px\n",
        "import math\n",
        "from scipy import stats\n",
        "\n",
        "acoes = ['CPLE6.SA', \"WEGE3.SA\", \"FLRY3.SA\", \"PSSA3.SA\", \"^BVSP\",\n",
        "                       \"VALE3.SA\"]\n",
        "\n",
        "acoes_df = yf.download(acoes, start='2015-01-01')[\"Adj Close\"]"
      ]
    },
    {
      "cell_type": "code",
      "source": [
        "acoes_df"
      ],
      "metadata": {
        "id": "JL4Ed2VIjUHK",
        "collapsed": true
      },
      "execution_count": null,
      "outputs": []
    },
    {
      "cell_type": "code",
      "source": [
        "acoes_df.info()"
      ],
      "metadata": {
        "id": "V1n5D7YHjflz"
      },
      "execution_count": null,
      "outputs": []
    },
    {
      "cell_type": "markdown",
      "source": [
        "## **Visualizar tabela**"
      ],
      "metadata": {
        "id": "7gU2FUlYcCbR"
      }
    },
    {
      "cell_type": "code",
      "source": [
        "acoes_df.head()\n",
        "acoes_df.tail()\n",
        "acoes_df.describe()"
      ],
      "metadata": {
        "colab": {
          "base_uri": "https://localhost:8080/",
          "height": 381
        },
        "id": "jDYb3omxtJsN",
        "outputId": "da988d14-eef1-41b9-eea4-aebba34a7d10",
        "collapsed": true
      },
      "execution_count": null,
      "outputs": [
        {
          "output_type": "execute_result",
          "data": {
            "text/plain": [
              "Price     Adj Close                                                      \\\n",
              "Ticker     BBDC4.SA     CPLE6.SA     FLRY3.SA     PRIO3.SA     PSSA3.SA   \n",
              "count   2347.000000  2347.000000  2347.000000  2347.000000  2347.000000   \n",
              "mean      14.553182     3.971621    15.912710    12.945414    18.250814   \n",
              "std        4.003944     2.577893     5.350259    15.621392     6.124777   \n",
              "min        5.507010     0.944294     4.549949     0.137779     7.540622   \n",
              "25%       12.033074     1.679746    13.617475     0.741409    11.680775   \n",
              "50%       14.606103     3.292699    16.104841     3.634163    19.908102   \n",
              "75%       17.334237     5.899611    20.444364    23.522219    22.611475   \n",
              "max       23.168978    10.359822    26.997272    50.860001    31.505445   \n",
              "\n",
              "Price                                   Close                            ...  \\\n",
              "Ticker     VALE3.SA     WEGE3.SA     BBDC4.SA     CPLE6.SA     FLRY3.SA  ...   \n",
              "count   2347.000000  2347.000000  2347.000000  2347.000000  2347.000000  ...   \n",
              "mean      40.373473    19.116725    18.035766     5.144375    18.721851  ...   \n",
              "std       24.145988    13.468864     4.531798     2.314341     6.219208  ...   \n",
              "min        5.136929     4.318591     8.001417     1.774501     6.365166  ...   \n",
              "25%       18.384744     6.462856    14.672220     2.985161    14.750000  ...   \n",
              "50%       33.899822    11.137151    17.468069     5.031586    18.661724  ...   \n",
              "75%       63.643827    33.571211    20.805785     6.960545    24.230066  ...   \n",
              "max       88.224312    43.637676    29.609316    10.410000    31.590086  ...   \n",
              "\n",
              "Price          Open                                  Volume                \\\n",
              "Ticker     PSSA3.SA     VALE3.SA     WEGE3.SA      BBDC4.SA      CPLE6.SA   \n",
              "count   2347.000000  2347.000000  2347.000000  2.347000e+03  2.347000e+03   \n",
              "mean      22.195690    53.261977    20.059257  3.360362e+07  1.053329e+07   \n",
              "std        5.399627    26.539308    13.645219  2.445745e+07  8.176918e+06   \n",
              "min       11.400000     8.750000     5.026923  0.000000e+00  0.000000e+00   \n",
              "25%       17.667500    30.080000     7.263461  1.893785e+07  6.087709e+06   \n",
              "50%       22.969999    52.070000    11.865000  2.798320e+07  8.977520e+06   \n",
              "75%       26.797500    70.445000    34.754999  4.165142e+07  1.313555e+07   \n",
              "max       33.750000   119.800003    46.459999  4.991948e+08  1.550016e+08   \n",
              "\n",
              "Price                                                                         \n",
              "Ticker      FLRY3.SA      PRIO3.SA      PSSA3.SA      VALE3.SA      WEGE3.SA  \n",
              "count   2.347000e+03  2.347000e+03  2.347000e+03  2.347000e+03  2.347000e+03  \n",
              "mean    1.984581e+06  9.837464e+06  1.640281e+06  1.994905e+07  7.083418e+06  \n",
              "std     1.780669e+06  1.074529e+07  1.240261e+06  1.362593e+07  4.338030e+06  \n",
              "min     0.000000e+00  0.000000e+00  0.000000e+00  0.000000e+00  0.000000e+00  \n",
              "25%     1.093652e+06  1.792500e+06  9.787000e+05  9.831650e+06  4.415970e+06  \n",
              "50%     1.722610e+06  6.620000e+06  1.392600e+06  1.857920e+07  6.041620e+06  \n",
              "75%     2.512576e+06  1.415195e+07  2.034100e+06  2.660340e+07  8.632350e+06  \n",
              "max     5.491270e+07  1.619380e+08  3.858520e+07  1.835345e+08  4.393400e+07  \n",
              "\n",
              "[8 rows x 42 columns]"
            ],
            "text/html": [
              "\n",
              "  <div id=\"df-9a27dd8e-e66b-48c7-8ba5-36c3938a4078\" class=\"colab-df-container\">\n",
              "    <div>\n",
              "<style scoped>\n",
              "    .dataframe tbody tr th:only-of-type {\n",
              "        vertical-align: middle;\n",
              "    }\n",
              "\n",
              "    .dataframe tbody tr th {\n",
              "        vertical-align: top;\n",
              "    }\n",
              "\n",
              "    .dataframe thead tr th {\n",
              "        text-align: left;\n",
              "    }\n",
              "</style>\n",
              "<table border=\"1\" class=\"dataframe\">\n",
              "  <thead>\n",
              "    <tr>\n",
              "      <th>Price</th>\n",
              "      <th colspan=\"7\" halign=\"left\">Adj Close</th>\n",
              "      <th colspan=\"3\" halign=\"left\">Close</th>\n",
              "      <th>...</th>\n",
              "      <th colspan=\"3\" halign=\"left\">Open</th>\n",
              "      <th colspan=\"7\" halign=\"left\">Volume</th>\n",
              "    </tr>\n",
              "    <tr>\n",
              "      <th>Ticker</th>\n",
              "      <th>BBDC4.SA</th>\n",
              "      <th>CPLE6.SA</th>\n",
              "      <th>FLRY3.SA</th>\n",
              "      <th>PRIO3.SA</th>\n",
              "      <th>PSSA3.SA</th>\n",
              "      <th>VALE3.SA</th>\n",
              "      <th>WEGE3.SA</th>\n",
              "      <th>BBDC4.SA</th>\n",
              "      <th>CPLE6.SA</th>\n",
              "      <th>FLRY3.SA</th>\n",
              "      <th>...</th>\n",
              "      <th>PSSA3.SA</th>\n",
              "      <th>VALE3.SA</th>\n",
              "      <th>WEGE3.SA</th>\n",
              "      <th>BBDC4.SA</th>\n",
              "      <th>CPLE6.SA</th>\n",
              "      <th>FLRY3.SA</th>\n",
              "      <th>PRIO3.SA</th>\n",
              "      <th>PSSA3.SA</th>\n",
              "      <th>VALE3.SA</th>\n",
              "      <th>WEGE3.SA</th>\n",
              "    </tr>\n",
              "  </thead>\n",
              "  <tbody>\n",
              "    <tr>\n",
              "      <th>count</th>\n",
              "      <td>2347.000000</td>\n",
              "      <td>2347.000000</td>\n",
              "      <td>2347.000000</td>\n",
              "      <td>2347.000000</td>\n",
              "      <td>2347.000000</td>\n",
              "      <td>2347.000000</td>\n",
              "      <td>2347.000000</td>\n",
              "      <td>2347.000000</td>\n",
              "      <td>2347.000000</td>\n",
              "      <td>2347.000000</td>\n",
              "      <td>...</td>\n",
              "      <td>2347.000000</td>\n",
              "      <td>2347.000000</td>\n",
              "      <td>2347.000000</td>\n",
              "      <td>2.347000e+03</td>\n",
              "      <td>2.347000e+03</td>\n",
              "      <td>2.347000e+03</td>\n",
              "      <td>2.347000e+03</td>\n",
              "      <td>2.347000e+03</td>\n",
              "      <td>2.347000e+03</td>\n",
              "      <td>2.347000e+03</td>\n",
              "    </tr>\n",
              "    <tr>\n",
              "      <th>mean</th>\n",
              "      <td>14.553182</td>\n",
              "      <td>3.971621</td>\n",
              "      <td>15.912710</td>\n",
              "      <td>12.945414</td>\n",
              "      <td>18.250814</td>\n",
              "      <td>40.373473</td>\n",
              "      <td>19.116725</td>\n",
              "      <td>18.035766</td>\n",
              "      <td>5.144375</td>\n",
              "      <td>18.721851</td>\n",
              "      <td>...</td>\n",
              "      <td>22.195690</td>\n",
              "      <td>53.261977</td>\n",
              "      <td>20.059257</td>\n",
              "      <td>3.360362e+07</td>\n",
              "      <td>1.053329e+07</td>\n",
              "      <td>1.984581e+06</td>\n",
              "      <td>9.837464e+06</td>\n",
              "      <td>1.640281e+06</td>\n",
              "      <td>1.994905e+07</td>\n",
              "      <td>7.083418e+06</td>\n",
              "    </tr>\n",
              "    <tr>\n",
              "      <th>std</th>\n",
              "      <td>4.003944</td>\n",
              "      <td>2.577893</td>\n",
              "      <td>5.350259</td>\n",
              "      <td>15.621392</td>\n",
              "      <td>6.124777</td>\n",
              "      <td>24.145988</td>\n",
              "      <td>13.468864</td>\n",
              "      <td>4.531798</td>\n",
              "      <td>2.314341</td>\n",
              "      <td>6.219208</td>\n",
              "      <td>...</td>\n",
              "      <td>5.399627</td>\n",
              "      <td>26.539308</td>\n",
              "      <td>13.645219</td>\n",
              "      <td>2.445745e+07</td>\n",
              "      <td>8.176918e+06</td>\n",
              "      <td>1.780669e+06</td>\n",
              "      <td>1.074529e+07</td>\n",
              "      <td>1.240261e+06</td>\n",
              "      <td>1.362593e+07</td>\n",
              "      <td>4.338030e+06</td>\n",
              "    </tr>\n",
              "    <tr>\n",
              "      <th>min</th>\n",
              "      <td>5.507010</td>\n",
              "      <td>0.944294</td>\n",
              "      <td>4.549949</td>\n",
              "      <td>0.137779</td>\n",
              "      <td>7.540622</td>\n",
              "      <td>5.136929</td>\n",
              "      <td>4.318591</td>\n",
              "      <td>8.001417</td>\n",
              "      <td>1.774501</td>\n",
              "      <td>6.365166</td>\n",
              "      <td>...</td>\n",
              "      <td>11.400000</td>\n",
              "      <td>8.750000</td>\n",
              "      <td>5.026923</td>\n",
              "      <td>0.000000e+00</td>\n",
              "      <td>0.000000e+00</td>\n",
              "      <td>0.000000e+00</td>\n",
              "      <td>0.000000e+00</td>\n",
              "      <td>0.000000e+00</td>\n",
              "      <td>0.000000e+00</td>\n",
              "      <td>0.000000e+00</td>\n",
              "    </tr>\n",
              "    <tr>\n",
              "      <th>25%</th>\n",
              "      <td>12.033074</td>\n",
              "      <td>1.679746</td>\n",
              "      <td>13.617475</td>\n",
              "      <td>0.741409</td>\n",
              "      <td>11.680775</td>\n",
              "      <td>18.384744</td>\n",
              "      <td>6.462856</td>\n",
              "      <td>14.672220</td>\n",
              "      <td>2.985161</td>\n",
              "      <td>14.750000</td>\n",
              "      <td>...</td>\n",
              "      <td>17.667500</td>\n",
              "      <td>30.080000</td>\n",
              "      <td>7.263461</td>\n",
              "      <td>1.893785e+07</td>\n",
              "      <td>6.087709e+06</td>\n",
              "      <td>1.093652e+06</td>\n",
              "      <td>1.792500e+06</td>\n",
              "      <td>9.787000e+05</td>\n",
              "      <td>9.831650e+06</td>\n",
              "      <td>4.415970e+06</td>\n",
              "    </tr>\n",
              "    <tr>\n",
              "      <th>50%</th>\n",
              "      <td>14.606103</td>\n",
              "      <td>3.292699</td>\n",
              "      <td>16.104841</td>\n",
              "      <td>3.634163</td>\n",
              "      <td>19.908102</td>\n",
              "      <td>33.899822</td>\n",
              "      <td>11.137151</td>\n",
              "      <td>17.468069</td>\n",
              "      <td>5.031586</td>\n",
              "      <td>18.661724</td>\n",
              "      <td>...</td>\n",
              "      <td>22.969999</td>\n",
              "      <td>52.070000</td>\n",
              "      <td>11.865000</td>\n",
              "      <td>2.798320e+07</td>\n",
              "      <td>8.977520e+06</td>\n",
              "      <td>1.722610e+06</td>\n",
              "      <td>6.620000e+06</td>\n",
              "      <td>1.392600e+06</td>\n",
              "      <td>1.857920e+07</td>\n",
              "      <td>6.041620e+06</td>\n",
              "    </tr>\n",
              "    <tr>\n",
              "      <th>75%</th>\n",
              "      <td>17.334237</td>\n",
              "      <td>5.899611</td>\n",
              "      <td>20.444364</td>\n",
              "      <td>23.522219</td>\n",
              "      <td>22.611475</td>\n",
              "      <td>63.643827</td>\n",
              "      <td>33.571211</td>\n",
              "      <td>20.805785</td>\n",
              "      <td>6.960545</td>\n",
              "      <td>24.230066</td>\n",
              "      <td>...</td>\n",
              "      <td>26.797500</td>\n",
              "      <td>70.445000</td>\n",
              "      <td>34.754999</td>\n",
              "      <td>4.165142e+07</td>\n",
              "      <td>1.313555e+07</td>\n",
              "      <td>2.512576e+06</td>\n",
              "      <td>1.415195e+07</td>\n",
              "      <td>2.034100e+06</td>\n",
              "      <td>2.660340e+07</td>\n",
              "      <td>8.632350e+06</td>\n",
              "    </tr>\n",
              "    <tr>\n",
              "      <th>max</th>\n",
              "      <td>23.168978</td>\n",
              "      <td>10.359822</td>\n",
              "      <td>26.997272</td>\n",
              "      <td>50.860001</td>\n",
              "      <td>31.505445</td>\n",
              "      <td>88.224312</td>\n",
              "      <td>43.637676</td>\n",
              "      <td>29.609316</td>\n",
              "      <td>10.410000</td>\n",
              "      <td>31.590086</td>\n",
              "      <td>...</td>\n",
              "      <td>33.750000</td>\n",
              "      <td>119.800003</td>\n",
              "      <td>46.459999</td>\n",
              "      <td>4.991948e+08</td>\n",
              "      <td>1.550016e+08</td>\n",
              "      <td>5.491270e+07</td>\n",
              "      <td>1.619380e+08</td>\n",
              "      <td>3.858520e+07</td>\n",
              "      <td>1.835345e+08</td>\n",
              "      <td>4.393400e+07</td>\n",
              "    </tr>\n",
              "  </tbody>\n",
              "</table>\n",
              "<p>8 rows × 42 columns</p>\n",
              "</div>\n",
              "    <div class=\"colab-df-buttons\">\n",
              "\n",
              "  <div class=\"colab-df-container\">\n",
              "    <button class=\"colab-df-convert\" onclick=\"convertToInteractive('df-9a27dd8e-e66b-48c7-8ba5-36c3938a4078')\"\n",
              "            title=\"Convert this dataframe to an interactive table.\"\n",
              "            style=\"display:none;\">\n",
              "\n",
              "  <svg xmlns=\"http://www.w3.org/2000/svg\" height=\"24px\" viewBox=\"0 -960 960 960\">\n",
              "    <path d=\"M120-120v-720h720v720H120Zm60-500h600v-160H180v160Zm220 220h160v-160H400v160Zm0 220h160v-160H400v160ZM180-400h160v-160H180v160Zm440 0h160v-160H620v160ZM180-180h160v-160H180v160Zm440 0h160v-160H620v160Z\"/>\n",
              "  </svg>\n",
              "    </button>\n",
              "\n",
              "  <style>\n",
              "    .colab-df-container {\n",
              "      display:flex;\n",
              "      gap: 12px;\n",
              "    }\n",
              "\n",
              "    .colab-df-convert {\n",
              "      background-color: #E8F0FE;\n",
              "      border: none;\n",
              "      border-radius: 50%;\n",
              "      cursor: pointer;\n",
              "      display: none;\n",
              "      fill: #1967D2;\n",
              "      height: 32px;\n",
              "      padding: 0 0 0 0;\n",
              "      width: 32px;\n",
              "    }\n",
              "\n",
              "    .colab-df-convert:hover {\n",
              "      background-color: #E2EBFA;\n",
              "      box-shadow: 0px 1px 2px rgba(60, 64, 67, 0.3), 0px 1px 3px 1px rgba(60, 64, 67, 0.15);\n",
              "      fill: #174EA6;\n",
              "    }\n",
              "\n",
              "    .colab-df-buttons div {\n",
              "      margin-bottom: 4px;\n",
              "    }\n",
              "\n",
              "    [theme=dark] .colab-df-convert {\n",
              "      background-color: #3B4455;\n",
              "      fill: #D2E3FC;\n",
              "    }\n",
              "\n",
              "    [theme=dark] .colab-df-convert:hover {\n",
              "      background-color: #434B5C;\n",
              "      box-shadow: 0px 1px 3px 1px rgba(0, 0, 0, 0.15);\n",
              "      filter: drop-shadow(0px 1px 2px rgba(0, 0, 0, 0.3));\n",
              "      fill: #FFFFFF;\n",
              "    }\n",
              "  </style>\n",
              "\n",
              "    <script>\n",
              "      const buttonEl =\n",
              "        document.querySelector('#df-9a27dd8e-e66b-48c7-8ba5-36c3938a4078 button.colab-df-convert');\n",
              "      buttonEl.style.display =\n",
              "        google.colab.kernel.accessAllowed ? 'block' : 'none';\n",
              "\n",
              "      async function convertToInteractive(key) {\n",
              "        const element = document.querySelector('#df-9a27dd8e-e66b-48c7-8ba5-36c3938a4078');\n",
              "        const dataTable =\n",
              "          await google.colab.kernel.invokeFunction('convertToInteractive',\n",
              "                                                    [key], {});\n",
              "        if (!dataTable) return;\n",
              "\n",
              "        const docLinkHtml = 'Like what you see? Visit the ' +\n",
              "          '<a target=\"_blank\" href=https://colab.research.google.com/notebooks/data_table.ipynb>data table notebook</a>'\n",
              "          + ' to learn more about interactive tables.';\n",
              "        element.innerHTML = '';\n",
              "        dataTable['output_type'] = 'display_data';\n",
              "        await google.colab.output.renderOutput(dataTable, element);\n",
              "        const docLink = document.createElement('div');\n",
              "        docLink.innerHTML = docLinkHtml;\n",
              "        element.appendChild(docLink);\n",
              "      }\n",
              "    </script>\n",
              "  </div>\n",
              "\n",
              "\n",
              "<div id=\"df-bf057a2c-f3a8-4d72-88e1-572914766ce0\">\n",
              "  <button class=\"colab-df-quickchart\" onclick=\"quickchart('df-bf057a2c-f3a8-4d72-88e1-572914766ce0')\"\n",
              "            title=\"Suggest charts\"\n",
              "            style=\"display:none;\">\n",
              "\n",
              "<svg xmlns=\"http://www.w3.org/2000/svg\" height=\"24px\"viewBox=\"0 0 24 24\"\n",
              "     width=\"24px\">\n",
              "    <g>\n",
              "        <path d=\"M19 3H5c-1.1 0-2 .9-2 2v14c0 1.1.9 2 2 2h14c1.1 0 2-.9 2-2V5c0-1.1-.9-2-2-2zM9 17H7v-7h2v7zm4 0h-2V7h2v10zm4 0h-2v-4h2v4z\"/>\n",
              "    </g>\n",
              "</svg>\n",
              "  </button>\n",
              "\n",
              "<style>\n",
              "  .colab-df-quickchart {\n",
              "      --bg-color: #E8F0FE;\n",
              "      --fill-color: #1967D2;\n",
              "      --hover-bg-color: #E2EBFA;\n",
              "      --hover-fill-color: #174EA6;\n",
              "      --disabled-fill-color: #AAA;\n",
              "      --disabled-bg-color: #DDD;\n",
              "  }\n",
              "\n",
              "  [theme=dark] .colab-df-quickchart {\n",
              "      --bg-color: #3B4455;\n",
              "      --fill-color: #D2E3FC;\n",
              "      --hover-bg-color: #434B5C;\n",
              "      --hover-fill-color: #FFFFFF;\n",
              "      --disabled-bg-color: #3B4455;\n",
              "      --disabled-fill-color: #666;\n",
              "  }\n",
              "\n",
              "  .colab-df-quickchart {\n",
              "    background-color: var(--bg-color);\n",
              "    border: none;\n",
              "    border-radius: 50%;\n",
              "    cursor: pointer;\n",
              "    display: none;\n",
              "    fill: var(--fill-color);\n",
              "    height: 32px;\n",
              "    padding: 0;\n",
              "    width: 32px;\n",
              "  }\n",
              "\n",
              "  .colab-df-quickchart:hover {\n",
              "    background-color: var(--hover-bg-color);\n",
              "    box-shadow: 0 1px 2px rgba(60, 64, 67, 0.3), 0 1px 3px 1px rgba(60, 64, 67, 0.15);\n",
              "    fill: var(--button-hover-fill-color);\n",
              "  }\n",
              "\n",
              "  .colab-df-quickchart-complete:disabled,\n",
              "  .colab-df-quickchart-complete:disabled:hover {\n",
              "    background-color: var(--disabled-bg-color);\n",
              "    fill: var(--disabled-fill-color);\n",
              "    box-shadow: none;\n",
              "  }\n",
              "\n",
              "  .colab-df-spinner {\n",
              "    border: 2px solid var(--fill-color);\n",
              "    border-color: transparent;\n",
              "    border-bottom-color: var(--fill-color);\n",
              "    animation:\n",
              "      spin 1s steps(1) infinite;\n",
              "  }\n",
              "\n",
              "  @keyframes spin {\n",
              "    0% {\n",
              "      border-color: transparent;\n",
              "      border-bottom-color: var(--fill-color);\n",
              "      border-left-color: var(--fill-color);\n",
              "    }\n",
              "    20% {\n",
              "      border-color: transparent;\n",
              "      border-left-color: var(--fill-color);\n",
              "      border-top-color: var(--fill-color);\n",
              "    }\n",
              "    30% {\n",
              "      border-color: transparent;\n",
              "      border-left-color: var(--fill-color);\n",
              "      border-top-color: var(--fill-color);\n",
              "      border-right-color: var(--fill-color);\n",
              "    }\n",
              "    40% {\n",
              "      border-color: transparent;\n",
              "      border-right-color: var(--fill-color);\n",
              "      border-top-color: var(--fill-color);\n",
              "    }\n",
              "    60% {\n",
              "      border-color: transparent;\n",
              "      border-right-color: var(--fill-color);\n",
              "    }\n",
              "    80% {\n",
              "      border-color: transparent;\n",
              "      border-right-color: var(--fill-color);\n",
              "      border-bottom-color: var(--fill-color);\n",
              "    }\n",
              "    90% {\n",
              "      border-color: transparent;\n",
              "      border-bottom-color: var(--fill-color);\n",
              "    }\n",
              "  }\n",
              "</style>\n",
              "\n",
              "  <script>\n",
              "    async function quickchart(key) {\n",
              "      const quickchartButtonEl =\n",
              "        document.querySelector('#' + key + ' button');\n",
              "      quickchartButtonEl.disabled = true;  // To prevent multiple clicks.\n",
              "      quickchartButtonEl.classList.add('colab-df-spinner');\n",
              "      try {\n",
              "        const charts = await google.colab.kernel.invokeFunction(\n",
              "            'suggestCharts', [key], {});\n",
              "      } catch (error) {\n",
              "        console.error('Error during call to suggestCharts:', error);\n",
              "      }\n",
              "      quickchartButtonEl.classList.remove('colab-df-spinner');\n",
              "      quickchartButtonEl.classList.add('colab-df-quickchart-complete');\n",
              "    }\n",
              "    (() => {\n",
              "      let quickchartButtonEl =\n",
              "        document.querySelector('#df-bf057a2c-f3a8-4d72-88e1-572914766ce0 button');\n",
              "      quickchartButtonEl.style.display =\n",
              "        google.colab.kernel.accessAllowed ? 'block' : 'none';\n",
              "    })();\n",
              "  </script>\n",
              "</div>\n",
              "\n",
              "    </div>\n",
              "  </div>\n"
            ],
            "application/vnd.google.colaboratory.intrinsic+json": {
              "type": "dataframe"
            }
          },
          "metadata": {},
          "execution_count": 23
        }
      ]
    },
    {
      "cell_type": "markdown",
      "source": [
        "## **Procurar por preço**"
      ],
      "metadata": {
        "id": "bjWVVIr0cUXr"
      }
    },
    {
      "cell_type": "code",
      "source": [
        "acoes_df[acoes_df[\"High\"] >= 90]\n",
        "acoes_df[acoes_df[\"Close\"] <= 1.78]"
      ],
      "metadata": {
        "colab": {
          "base_uri": "https://localhost:8080/",
          "height": 721
        },
        "id": "z7H97OMtuZLF",
        "outputId": "7b4e86fb-4013-4b32-d4ad-3a9a4c75ecd0",
        "collapsed": true
      },
      "execution_count": null,
      "outputs": [
        {
          "output_type": "execute_result",
          "data": {
            "text/plain": [
              "Price      Adj Close                                                         \\\n",
              "Ticker      BBDC4.SA CPLE6.SA FLRY3.SA  PRIO3.SA PSSA3.SA VALE3.SA WEGE3.SA   \n",
              "Date                                                                          \n",
              "2015-01-02       NaN      NaN      NaN  0.439294      NaN      NaN      NaN   \n",
              "2015-01-05       NaN      NaN      NaN  0.406347      NaN      NaN      NaN   \n",
              "2015-01-06       NaN      NaN      NaN  0.366411      NaN      NaN      NaN   \n",
              "2015-01-07       NaN      NaN      NaN  0.365413      NaN      NaN      NaN   \n",
              "2015-01-08       NaN      NaN      NaN  0.377394      NaN      NaN      NaN   \n",
              "...              ...      ...      ...       ...      ...      ...      ...   \n",
              "2024-06-05       NaN      NaN      NaN       NaN      NaN      NaN      NaN   \n",
              "2024-06-06       NaN      NaN      NaN       NaN      NaN      NaN      NaN   \n",
              "2024-06-07       NaN      NaN      NaN       NaN      NaN      NaN      NaN   \n",
              "2024-06-10       NaN      NaN      NaN       NaN      NaN      NaN      NaN   \n",
              "2024-06-11       NaN      NaN      NaN       NaN      NaN      NaN      NaN   \n",
              "\n",
              "Price         Close                    ...     Open                    \\\n",
              "Ticker     BBDC4.SA CPLE6.SA FLRY3.SA  ... PSSA3.SA VALE3.SA WEGE3.SA   \n",
              "Date                                   ...                              \n",
              "2015-01-02      NaN      NaN      NaN  ...      NaN      NaN      NaN   \n",
              "2015-01-05      NaN      NaN      NaN  ...      NaN      NaN      NaN   \n",
              "2015-01-06      NaN      NaN      NaN  ...      NaN      NaN      NaN   \n",
              "2015-01-07      NaN      NaN      NaN  ...      NaN      NaN      NaN   \n",
              "2015-01-08      NaN      NaN      NaN  ...      NaN      NaN      NaN   \n",
              "...             ...      ...      ...  ...      ...      ...      ...   \n",
              "2024-06-05      NaN      NaN      NaN  ...      NaN      NaN      NaN   \n",
              "2024-06-06      NaN      NaN      NaN  ...      NaN      NaN      NaN   \n",
              "2024-06-07      NaN      NaN      NaN  ...      NaN      NaN      NaN   \n",
              "2024-06-10      NaN      NaN      NaN  ...      NaN      NaN      NaN   \n",
              "2024-06-11      NaN      NaN      NaN  ...      NaN      NaN      NaN   \n",
              "\n",
              "Price        Volume                                                          \n",
              "Ticker     BBDC4.SA CPLE6.SA FLRY3.SA   PRIO3.SA PSSA3.SA VALE3.SA WEGE3.SA  \n",
              "Date                                                                         \n",
              "2015-01-02      NaN      NaN      NaN   840000.0      NaN      NaN      NaN  \n",
              "2015-01-05      NaN      NaN      NaN  1912000.0      NaN      NaN      NaN  \n",
              "2015-01-06      NaN      NaN      NaN  2154000.0      NaN      NaN      NaN  \n",
              "2015-01-07      NaN      NaN      NaN  1501000.0      NaN      NaN      NaN  \n",
              "2015-01-08      NaN      NaN      NaN  1622000.0      NaN      NaN      NaN  \n",
              "...             ...      ...      ...        ...      ...      ...      ...  \n",
              "2024-06-05      NaN      NaN      NaN        NaN      NaN      NaN      NaN  \n",
              "2024-06-06      NaN      NaN      NaN        NaN      NaN      NaN      NaN  \n",
              "2024-06-07      NaN      NaN      NaN        NaN      NaN      NaN      NaN  \n",
              "2024-06-10      NaN      NaN      NaN        NaN      NaN      NaN      NaN  \n",
              "2024-06-11      NaN      NaN      NaN        NaN      NaN      NaN      NaN  \n",
              "\n",
              "[2347 rows x 42 columns]"
            ],
            "text/html": [
              "\n",
              "  <div id=\"df-f3289166-8ad6-45d9-a2ab-f68d7654d8f4\" class=\"colab-df-container\">\n",
              "    <div>\n",
              "<style scoped>\n",
              "    .dataframe tbody tr th:only-of-type {\n",
              "        vertical-align: middle;\n",
              "    }\n",
              "\n",
              "    .dataframe tbody tr th {\n",
              "        vertical-align: top;\n",
              "    }\n",
              "\n",
              "    .dataframe thead tr th {\n",
              "        text-align: left;\n",
              "    }\n",
              "\n",
              "    .dataframe thead tr:last-of-type th {\n",
              "        text-align: right;\n",
              "    }\n",
              "</style>\n",
              "<table border=\"1\" class=\"dataframe\">\n",
              "  <thead>\n",
              "    <tr>\n",
              "      <th>Price</th>\n",
              "      <th colspan=\"7\" halign=\"left\">Adj Close</th>\n",
              "      <th colspan=\"3\" halign=\"left\">Close</th>\n",
              "      <th>...</th>\n",
              "      <th colspan=\"3\" halign=\"left\">Open</th>\n",
              "      <th colspan=\"7\" halign=\"left\">Volume</th>\n",
              "    </tr>\n",
              "    <tr>\n",
              "      <th>Ticker</th>\n",
              "      <th>BBDC4.SA</th>\n",
              "      <th>CPLE6.SA</th>\n",
              "      <th>FLRY3.SA</th>\n",
              "      <th>PRIO3.SA</th>\n",
              "      <th>PSSA3.SA</th>\n",
              "      <th>VALE3.SA</th>\n",
              "      <th>WEGE3.SA</th>\n",
              "      <th>BBDC4.SA</th>\n",
              "      <th>CPLE6.SA</th>\n",
              "      <th>FLRY3.SA</th>\n",
              "      <th>...</th>\n",
              "      <th>PSSA3.SA</th>\n",
              "      <th>VALE3.SA</th>\n",
              "      <th>WEGE3.SA</th>\n",
              "      <th>BBDC4.SA</th>\n",
              "      <th>CPLE6.SA</th>\n",
              "      <th>FLRY3.SA</th>\n",
              "      <th>PRIO3.SA</th>\n",
              "      <th>PSSA3.SA</th>\n",
              "      <th>VALE3.SA</th>\n",
              "      <th>WEGE3.SA</th>\n",
              "    </tr>\n",
              "    <tr>\n",
              "      <th>Date</th>\n",
              "      <th></th>\n",
              "      <th></th>\n",
              "      <th></th>\n",
              "      <th></th>\n",
              "      <th></th>\n",
              "      <th></th>\n",
              "      <th></th>\n",
              "      <th></th>\n",
              "      <th></th>\n",
              "      <th></th>\n",
              "      <th></th>\n",
              "      <th></th>\n",
              "      <th></th>\n",
              "      <th></th>\n",
              "      <th></th>\n",
              "      <th></th>\n",
              "      <th></th>\n",
              "      <th></th>\n",
              "      <th></th>\n",
              "      <th></th>\n",
              "      <th></th>\n",
              "    </tr>\n",
              "  </thead>\n",
              "  <tbody>\n",
              "    <tr>\n",
              "      <th>2015-01-02</th>\n",
              "      <td>NaN</td>\n",
              "      <td>NaN</td>\n",
              "      <td>NaN</td>\n",
              "      <td>0.439294</td>\n",
              "      <td>NaN</td>\n",
              "      <td>NaN</td>\n",
              "      <td>NaN</td>\n",
              "      <td>NaN</td>\n",
              "      <td>NaN</td>\n",
              "      <td>NaN</td>\n",
              "      <td>...</td>\n",
              "      <td>NaN</td>\n",
              "      <td>NaN</td>\n",
              "      <td>NaN</td>\n",
              "      <td>NaN</td>\n",
              "      <td>NaN</td>\n",
              "      <td>NaN</td>\n",
              "      <td>840000.0</td>\n",
              "      <td>NaN</td>\n",
              "      <td>NaN</td>\n",
              "      <td>NaN</td>\n",
              "    </tr>\n",
              "    <tr>\n",
              "      <th>2015-01-05</th>\n",
              "      <td>NaN</td>\n",
              "      <td>NaN</td>\n",
              "      <td>NaN</td>\n",
              "      <td>0.406347</td>\n",
              "      <td>NaN</td>\n",
              "      <td>NaN</td>\n",
              "      <td>NaN</td>\n",
              "      <td>NaN</td>\n",
              "      <td>NaN</td>\n",
              "      <td>NaN</td>\n",
              "      <td>...</td>\n",
              "      <td>NaN</td>\n",
              "      <td>NaN</td>\n",
              "      <td>NaN</td>\n",
              "      <td>NaN</td>\n",
              "      <td>NaN</td>\n",
              "      <td>NaN</td>\n",
              "      <td>1912000.0</td>\n",
              "      <td>NaN</td>\n",
              "      <td>NaN</td>\n",
              "      <td>NaN</td>\n",
              "    </tr>\n",
              "    <tr>\n",
              "      <th>2015-01-06</th>\n",
              "      <td>NaN</td>\n",
              "      <td>NaN</td>\n",
              "      <td>NaN</td>\n",
              "      <td>0.366411</td>\n",
              "      <td>NaN</td>\n",
              "      <td>NaN</td>\n",
              "      <td>NaN</td>\n",
              "      <td>NaN</td>\n",
              "      <td>NaN</td>\n",
              "      <td>NaN</td>\n",
              "      <td>...</td>\n",
              "      <td>NaN</td>\n",
              "      <td>NaN</td>\n",
              "      <td>NaN</td>\n",
              "      <td>NaN</td>\n",
              "      <td>NaN</td>\n",
              "      <td>NaN</td>\n",
              "      <td>2154000.0</td>\n",
              "      <td>NaN</td>\n",
              "      <td>NaN</td>\n",
              "      <td>NaN</td>\n",
              "    </tr>\n",
              "    <tr>\n",
              "      <th>2015-01-07</th>\n",
              "      <td>NaN</td>\n",
              "      <td>NaN</td>\n",
              "      <td>NaN</td>\n",
              "      <td>0.365413</td>\n",
              "      <td>NaN</td>\n",
              "      <td>NaN</td>\n",
              "      <td>NaN</td>\n",
              "      <td>NaN</td>\n",
              "      <td>NaN</td>\n",
              "      <td>NaN</td>\n",
              "      <td>...</td>\n",
              "      <td>NaN</td>\n",
              "      <td>NaN</td>\n",
              "      <td>NaN</td>\n",
              "      <td>NaN</td>\n",
              "      <td>NaN</td>\n",
              "      <td>NaN</td>\n",
              "      <td>1501000.0</td>\n",
              "      <td>NaN</td>\n",
              "      <td>NaN</td>\n",
              "      <td>NaN</td>\n",
              "    </tr>\n",
              "    <tr>\n",
              "      <th>2015-01-08</th>\n",
              "      <td>NaN</td>\n",
              "      <td>NaN</td>\n",
              "      <td>NaN</td>\n",
              "      <td>0.377394</td>\n",
              "      <td>NaN</td>\n",
              "      <td>NaN</td>\n",
              "      <td>NaN</td>\n",
              "      <td>NaN</td>\n",
              "      <td>NaN</td>\n",
              "      <td>NaN</td>\n",
              "      <td>...</td>\n",
              "      <td>NaN</td>\n",
              "      <td>NaN</td>\n",
              "      <td>NaN</td>\n",
              "      <td>NaN</td>\n",
              "      <td>NaN</td>\n",
              "      <td>NaN</td>\n",
              "      <td>1622000.0</td>\n",
              "      <td>NaN</td>\n",
              "      <td>NaN</td>\n",
              "      <td>NaN</td>\n",
              "    </tr>\n",
              "    <tr>\n",
              "      <th>...</th>\n",
              "      <td>...</td>\n",
              "      <td>...</td>\n",
              "      <td>...</td>\n",
              "      <td>...</td>\n",
              "      <td>...</td>\n",
              "      <td>...</td>\n",
              "      <td>...</td>\n",
              "      <td>...</td>\n",
              "      <td>...</td>\n",
              "      <td>...</td>\n",
              "      <td>...</td>\n",
              "      <td>...</td>\n",
              "      <td>...</td>\n",
              "      <td>...</td>\n",
              "      <td>...</td>\n",
              "      <td>...</td>\n",
              "      <td>...</td>\n",
              "      <td>...</td>\n",
              "      <td>...</td>\n",
              "      <td>...</td>\n",
              "      <td>...</td>\n",
              "    </tr>\n",
              "    <tr>\n",
              "      <th>2024-06-05</th>\n",
              "      <td>NaN</td>\n",
              "      <td>NaN</td>\n",
              "      <td>NaN</td>\n",
              "      <td>NaN</td>\n",
              "      <td>NaN</td>\n",
              "      <td>NaN</td>\n",
              "      <td>NaN</td>\n",
              "      <td>NaN</td>\n",
              "      <td>NaN</td>\n",
              "      <td>NaN</td>\n",
              "      <td>...</td>\n",
              "      <td>NaN</td>\n",
              "      <td>NaN</td>\n",
              "      <td>NaN</td>\n",
              "      <td>NaN</td>\n",
              "      <td>NaN</td>\n",
              "      <td>NaN</td>\n",
              "      <td>NaN</td>\n",
              "      <td>NaN</td>\n",
              "      <td>NaN</td>\n",
              "      <td>NaN</td>\n",
              "    </tr>\n",
              "    <tr>\n",
              "      <th>2024-06-06</th>\n",
              "      <td>NaN</td>\n",
              "      <td>NaN</td>\n",
              "      <td>NaN</td>\n",
              "      <td>NaN</td>\n",
              "      <td>NaN</td>\n",
              "      <td>NaN</td>\n",
              "      <td>NaN</td>\n",
              "      <td>NaN</td>\n",
              "      <td>NaN</td>\n",
              "      <td>NaN</td>\n",
              "      <td>...</td>\n",
              "      <td>NaN</td>\n",
              "      <td>NaN</td>\n",
              "      <td>NaN</td>\n",
              "      <td>NaN</td>\n",
              "      <td>NaN</td>\n",
              "      <td>NaN</td>\n",
              "      <td>NaN</td>\n",
              "      <td>NaN</td>\n",
              "      <td>NaN</td>\n",
              "      <td>NaN</td>\n",
              "    </tr>\n",
              "    <tr>\n",
              "      <th>2024-06-07</th>\n",
              "      <td>NaN</td>\n",
              "      <td>NaN</td>\n",
              "      <td>NaN</td>\n",
              "      <td>NaN</td>\n",
              "      <td>NaN</td>\n",
              "      <td>NaN</td>\n",
              "      <td>NaN</td>\n",
              "      <td>NaN</td>\n",
              "      <td>NaN</td>\n",
              "      <td>NaN</td>\n",
              "      <td>...</td>\n",
              "      <td>NaN</td>\n",
              "      <td>NaN</td>\n",
              "      <td>NaN</td>\n",
              "      <td>NaN</td>\n",
              "      <td>NaN</td>\n",
              "      <td>NaN</td>\n",
              "      <td>NaN</td>\n",
              "      <td>NaN</td>\n",
              "      <td>NaN</td>\n",
              "      <td>NaN</td>\n",
              "    </tr>\n",
              "    <tr>\n",
              "      <th>2024-06-10</th>\n",
              "      <td>NaN</td>\n",
              "      <td>NaN</td>\n",
              "      <td>NaN</td>\n",
              "      <td>NaN</td>\n",
              "      <td>NaN</td>\n",
              "      <td>NaN</td>\n",
              "      <td>NaN</td>\n",
              "      <td>NaN</td>\n",
              "      <td>NaN</td>\n",
              "      <td>NaN</td>\n",
              "      <td>...</td>\n",
              "      <td>NaN</td>\n",
              "      <td>NaN</td>\n",
              "      <td>NaN</td>\n",
              "      <td>NaN</td>\n",
              "      <td>NaN</td>\n",
              "      <td>NaN</td>\n",
              "      <td>NaN</td>\n",
              "      <td>NaN</td>\n",
              "      <td>NaN</td>\n",
              "      <td>NaN</td>\n",
              "    </tr>\n",
              "    <tr>\n",
              "      <th>2024-06-11</th>\n",
              "      <td>NaN</td>\n",
              "      <td>NaN</td>\n",
              "      <td>NaN</td>\n",
              "      <td>NaN</td>\n",
              "      <td>NaN</td>\n",
              "      <td>NaN</td>\n",
              "      <td>NaN</td>\n",
              "      <td>NaN</td>\n",
              "      <td>NaN</td>\n",
              "      <td>NaN</td>\n",
              "      <td>...</td>\n",
              "      <td>NaN</td>\n",
              "      <td>NaN</td>\n",
              "      <td>NaN</td>\n",
              "      <td>NaN</td>\n",
              "      <td>NaN</td>\n",
              "      <td>NaN</td>\n",
              "      <td>NaN</td>\n",
              "      <td>NaN</td>\n",
              "      <td>NaN</td>\n",
              "      <td>NaN</td>\n",
              "    </tr>\n",
              "  </tbody>\n",
              "</table>\n",
              "<p>2347 rows × 42 columns</p>\n",
              "</div>\n",
              "    <div class=\"colab-df-buttons\">\n",
              "\n",
              "  <div class=\"colab-df-container\">\n",
              "    <button class=\"colab-df-convert\" onclick=\"convertToInteractive('df-f3289166-8ad6-45d9-a2ab-f68d7654d8f4')\"\n",
              "            title=\"Convert this dataframe to an interactive table.\"\n",
              "            style=\"display:none;\">\n",
              "\n",
              "  <svg xmlns=\"http://www.w3.org/2000/svg\" height=\"24px\" viewBox=\"0 -960 960 960\">\n",
              "    <path d=\"M120-120v-720h720v720H120Zm60-500h600v-160H180v160Zm220 220h160v-160H400v160Zm0 220h160v-160H400v160ZM180-400h160v-160H180v160Zm440 0h160v-160H620v160ZM180-180h160v-160H180v160Zm440 0h160v-160H620v160Z\"/>\n",
              "  </svg>\n",
              "    </button>\n",
              "\n",
              "  <style>\n",
              "    .colab-df-container {\n",
              "      display:flex;\n",
              "      gap: 12px;\n",
              "    }\n",
              "\n",
              "    .colab-df-convert {\n",
              "      background-color: #E8F0FE;\n",
              "      border: none;\n",
              "      border-radius: 50%;\n",
              "      cursor: pointer;\n",
              "      display: none;\n",
              "      fill: #1967D2;\n",
              "      height: 32px;\n",
              "      padding: 0 0 0 0;\n",
              "      width: 32px;\n",
              "    }\n",
              "\n",
              "    .colab-df-convert:hover {\n",
              "      background-color: #E2EBFA;\n",
              "      box-shadow: 0px 1px 2px rgba(60, 64, 67, 0.3), 0px 1px 3px 1px rgba(60, 64, 67, 0.15);\n",
              "      fill: #174EA6;\n",
              "    }\n",
              "\n",
              "    .colab-df-buttons div {\n",
              "      margin-bottom: 4px;\n",
              "    }\n",
              "\n",
              "    [theme=dark] .colab-df-convert {\n",
              "      background-color: #3B4455;\n",
              "      fill: #D2E3FC;\n",
              "    }\n",
              "\n",
              "    [theme=dark] .colab-df-convert:hover {\n",
              "      background-color: #434B5C;\n",
              "      box-shadow: 0px 1px 3px 1px rgba(0, 0, 0, 0.15);\n",
              "      filter: drop-shadow(0px 1px 2px rgba(0, 0, 0, 0.3));\n",
              "      fill: #FFFFFF;\n",
              "    }\n",
              "  </style>\n",
              "\n",
              "    <script>\n",
              "      const buttonEl =\n",
              "        document.querySelector('#df-f3289166-8ad6-45d9-a2ab-f68d7654d8f4 button.colab-df-convert');\n",
              "      buttonEl.style.display =\n",
              "        google.colab.kernel.accessAllowed ? 'block' : 'none';\n",
              "\n",
              "      async function convertToInteractive(key) {\n",
              "        const element = document.querySelector('#df-f3289166-8ad6-45d9-a2ab-f68d7654d8f4');\n",
              "        const dataTable =\n",
              "          await google.colab.kernel.invokeFunction('convertToInteractive',\n",
              "                                                    [key], {});\n",
              "        if (!dataTable) return;\n",
              "\n",
              "        const docLinkHtml = 'Like what you see? Visit the ' +\n",
              "          '<a target=\"_blank\" href=https://colab.research.google.com/notebooks/data_table.ipynb>data table notebook</a>'\n",
              "          + ' to learn more about interactive tables.';\n",
              "        element.innerHTML = '';\n",
              "        dataTable['output_type'] = 'display_data';\n",
              "        await google.colab.output.renderOutput(dataTable, element);\n",
              "        const docLink = document.createElement('div');\n",
              "        docLink.innerHTML = docLinkHtml;\n",
              "        element.appendChild(docLink);\n",
              "      }\n",
              "    </script>\n",
              "  </div>\n",
              "\n",
              "\n",
              "<div id=\"df-b1581588-1645-4faa-9e63-6b225ee92ec1\">\n",
              "  <button class=\"colab-df-quickchart\" onclick=\"quickchart('df-b1581588-1645-4faa-9e63-6b225ee92ec1')\"\n",
              "            title=\"Suggest charts\"\n",
              "            style=\"display:none;\">\n",
              "\n",
              "<svg xmlns=\"http://www.w3.org/2000/svg\" height=\"24px\"viewBox=\"0 0 24 24\"\n",
              "     width=\"24px\">\n",
              "    <g>\n",
              "        <path d=\"M19 3H5c-1.1 0-2 .9-2 2v14c0 1.1.9 2 2 2h14c1.1 0 2-.9 2-2V5c0-1.1-.9-2-2-2zM9 17H7v-7h2v7zm4 0h-2V7h2v10zm4 0h-2v-4h2v4z\"/>\n",
              "    </g>\n",
              "</svg>\n",
              "  </button>\n",
              "\n",
              "<style>\n",
              "  .colab-df-quickchart {\n",
              "      --bg-color: #E8F0FE;\n",
              "      --fill-color: #1967D2;\n",
              "      --hover-bg-color: #E2EBFA;\n",
              "      --hover-fill-color: #174EA6;\n",
              "      --disabled-fill-color: #AAA;\n",
              "      --disabled-bg-color: #DDD;\n",
              "  }\n",
              "\n",
              "  [theme=dark] .colab-df-quickchart {\n",
              "      --bg-color: #3B4455;\n",
              "      --fill-color: #D2E3FC;\n",
              "      --hover-bg-color: #434B5C;\n",
              "      --hover-fill-color: #FFFFFF;\n",
              "      --disabled-bg-color: #3B4455;\n",
              "      --disabled-fill-color: #666;\n",
              "  }\n",
              "\n",
              "  .colab-df-quickchart {\n",
              "    background-color: var(--bg-color);\n",
              "    border: none;\n",
              "    border-radius: 50%;\n",
              "    cursor: pointer;\n",
              "    display: none;\n",
              "    fill: var(--fill-color);\n",
              "    height: 32px;\n",
              "    padding: 0;\n",
              "    width: 32px;\n",
              "  }\n",
              "\n",
              "  .colab-df-quickchart:hover {\n",
              "    background-color: var(--hover-bg-color);\n",
              "    box-shadow: 0 1px 2px rgba(60, 64, 67, 0.3), 0 1px 3px 1px rgba(60, 64, 67, 0.15);\n",
              "    fill: var(--button-hover-fill-color);\n",
              "  }\n",
              "\n",
              "  .colab-df-quickchart-complete:disabled,\n",
              "  .colab-df-quickchart-complete:disabled:hover {\n",
              "    background-color: var(--disabled-bg-color);\n",
              "    fill: var(--disabled-fill-color);\n",
              "    box-shadow: none;\n",
              "  }\n",
              "\n",
              "  .colab-df-spinner {\n",
              "    border: 2px solid var(--fill-color);\n",
              "    border-color: transparent;\n",
              "    border-bottom-color: var(--fill-color);\n",
              "    animation:\n",
              "      spin 1s steps(1) infinite;\n",
              "  }\n",
              "\n",
              "  @keyframes spin {\n",
              "    0% {\n",
              "      border-color: transparent;\n",
              "      border-bottom-color: var(--fill-color);\n",
              "      border-left-color: var(--fill-color);\n",
              "    }\n",
              "    20% {\n",
              "      border-color: transparent;\n",
              "      border-left-color: var(--fill-color);\n",
              "      border-top-color: var(--fill-color);\n",
              "    }\n",
              "    30% {\n",
              "      border-color: transparent;\n",
              "      border-left-color: var(--fill-color);\n",
              "      border-top-color: var(--fill-color);\n",
              "      border-right-color: var(--fill-color);\n",
              "    }\n",
              "    40% {\n",
              "      border-color: transparent;\n",
              "      border-right-color: var(--fill-color);\n",
              "      border-top-color: var(--fill-color);\n",
              "    }\n",
              "    60% {\n",
              "      border-color: transparent;\n",
              "      border-right-color: var(--fill-color);\n",
              "    }\n",
              "    80% {\n",
              "      border-color: transparent;\n",
              "      border-right-color: var(--fill-color);\n",
              "      border-bottom-color: var(--fill-color);\n",
              "    }\n",
              "    90% {\n",
              "      border-color: transparent;\n",
              "      border-bottom-color: var(--fill-color);\n",
              "    }\n",
              "  }\n",
              "</style>\n",
              "\n",
              "  <script>\n",
              "    async function quickchart(key) {\n",
              "      const quickchartButtonEl =\n",
              "        document.querySelector('#' + key + ' button');\n",
              "      quickchartButtonEl.disabled = true;  // To prevent multiple clicks.\n",
              "      quickchartButtonEl.classList.add('colab-df-spinner');\n",
              "      try {\n",
              "        const charts = await google.colab.kernel.invokeFunction(\n",
              "            'suggestCharts', [key], {});\n",
              "      } catch (error) {\n",
              "        console.error('Error during call to suggestCharts:', error);\n",
              "      }\n",
              "      quickchartButtonEl.classList.remove('colab-df-spinner');\n",
              "      quickchartButtonEl.classList.add('colab-df-quickchart-complete');\n",
              "    }\n",
              "    (() => {\n",
              "      let quickchartButtonEl =\n",
              "        document.querySelector('#df-b1581588-1645-4faa-9e63-6b225ee92ec1 button');\n",
              "      quickchartButtonEl.style.display =\n",
              "        google.colab.kernel.accessAllowed ? 'block' : 'none';\n",
              "    })();\n",
              "  </script>\n",
              "</div>\n",
              "\n",
              "    </div>\n",
              "  </div>\n"
            ],
            "application/vnd.google.colaboratory.intrinsic+json": {
              "type": "dataframe"
            }
          },
          "metadata": {},
          "execution_count": 11
        },
        {
          "output_type": "stream",
          "name": "stdout",
          "text": [
            "Warning: Total number of columns (42) exceeds max_columns (20) limiting to first (20) columns.\n"
          ]
        }
      ]
    },
    {
      "cell_type": "markdown",
      "source": [
        "## **CSV**"
      ],
      "metadata": {
        "id": "tg6CnAwXcfKs"
      }
    },
    {
      "cell_type": "code",
      "source": [
        "acoes_df.to_csv(\"cple6_df.csv\")\n",
        "acoes_df = pd.read_csv(\"/content/cple6_df.csv\")"
      ],
      "metadata": {
        "id": "iFwd-sCovObK"
      },
      "execution_count": null,
      "outputs": []
    },
    {
      "cell_type": "markdown",
      "source": [
        "## **NA's**"
      ],
      "metadata": {
        "id": "SFQp1JqTckmV"
      }
    },
    {
      "cell_type": "code",
      "source": [
        "acoes_df.isnull().sum\n",
        "acoes_df.shape\n",
        "acoes_df.dropna(inplace=True)\n",
        "acoes_df.shape\n",
        "acoes_df.isnull().sum()"
      ],
      "metadata": {
        "id": "NQ2LxjoN11Wn"
      },
      "execution_count": null,
      "outputs": []
    },
    {
      "cell_type": "markdown",
      "source": [
        "## **Visualizar Dados**"
      ],
      "metadata": {
        "id": "q8kGs9ooc07O"
      }
    },
    {
      "cell_type": "code",
      "source": [
        "sns.histplot(acoes_df['Adj Close'], bins = 100);\n",
        "sns.boxplot(x = acoes_df[\"Adj Close\"])"
      ],
      "metadata": {
        "id": "LbYBlwsmIHZw",
        "collapsed": true
      },
      "execution_count": null,
      "outputs": []
    },
    {
      "cell_type": "code",
      "source": [
        "plt.figure(figsize=(10,50))\n",
        "i = 1\n",
        "for i in np.arange(1, len(acoes_df.columns)):\n",
        "  plt.subplot(8, 1, i + 1)\n",
        "  sns.histplot(acoes_df[acoes_df.columns[i]], kde = True)\n",
        "  plt.title(acoes_df.columns[i])"
      ],
      "metadata": {
        "id": "A1A9gXfnhp_6"
      },
      "execution_count": null,
      "outputs": []
    },
    {
      "cell_type": "code",
      "source": [
        "acoes_df = acoes_df.reset_index()\n",
        "acoes_df.plot(x = \"Date\", y = \"Adj Close\",figsize = (15, 7), title = \"Histórico do preço das ações\");"
      ],
      "metadata": {
        "id": "rIWrny2qi3Mn"
      },
      "execution_count": null,
      "outputs": []
    },
    {
      "cell_type": "code",
      "source": [
        "acoes_df = acoes_df.reset_index()\n",
        "figura = px.line(title = \"Histórico de preço das ações\")\n",
        "for i in acoes_df.columns[1:]:\n",
        "  figura.add_scatter(x = acoes_df[\"Date\"], y = acoes_df[i], name = i)\n",
        "figura.show"
      ],
      "metadata": {
        "id": "Z06645IS1RjE"
      },
      "execution_count": null,
      "outputs": []
    },
    {
      "cell_type": "markdown",
      "source": [
        "## **Visualizar Retorno**"
      ],
      "metadata": {
        "id": "6OF492r62PU3"
      }
    },
    {
      "cell_type": "markdown",
      "source": [
        "**Simples**"
      ],
      "metadata": {
        "id": "3ch3WGKO3HFT"
      }
    },
    {
      "cell_type": "code",
      "source": [
        "acoes_df[\"CPLE6.SA\"][0], acoes_df[\"CPLE6.SA\"][len(acoes_df) - 1]"
      ],
      "metadata": {
        "colab": {
          "base_uri": "https://localhost:8080/"
        },
        "id": "ApyfRk-a2UWm",
        "outputId": "d1123ce5-d9fa-4bde-8841-35991597783d"
      },
      "execution_count": null,
      "outputs": [
        {
          "output_type": "execute_result",
          "data": {
            "text/plain": [
              "(1.7499475479125977, 9.100000381469727)"
            ]
          },
          "metadata": {},
          "execution_count": 6
        }
      ]
    },
    {
      "cell_type": "code",
      "source": [
        "((acoes_df[\"CPLE6.SA\"][len(acoes_df)-1] - acoes_df[\"CPLE6.SA\"][0]) / acoes_df[\"CPLE6.SA\"][0]) * 100"
      ],
      "metadata": {
        "colab": {
          "base_uri": "https://localhost:8080/"
        },
        "id": "TmVm3M7U24CK",
        "outputId": "8f706094-aa1d-43a8-f1c2-4a7de8b5f13f"
      },
      "execution_count": null,
      "outputs": [
        {
          "output_type": "execute_result",
          "data": {
            "text/plain": [
              "420.01560802919744"
            ]
          },
          "metadata": {},
          "execution_count": 8
        }
      ]
    },
    {
      "cell_type": "code",
      "source": [
        "((acoes_df[\"WEGE3.SA\"][len(acoes_df)-1] - acoes_df[\"WEGE3.SA\"][0]) / acoes_df[\"WEGE3.SA\"][0]) * 100"
      ],
      "metadata": {
        "colab": {
          "base_uri": "https://localhost:8080/"
        },
        "id": "dOoyeGJd4OFC",
        "outputId": "1ee74120-80f0-4ddf-e3fd-0f04c1d85611"
      },
      "execution_count": null,
      "outputs": [
        {
          "output_type": "execute_result",
          "data": {
            "text/plain": [
              "640.1788051085007"
            ]
          },
          "metadata": {},
          "execution_count": 9
        }
      ]
    },
    {
      "cell_type": "code",
      "source": [
        "((acoes_df[\"PSSA3.SA\"][len(acoes_df)-1] - acoes_df[\"PSSA3.SA\"][0]) / acoes_df[\"PSSA3.SA\"][0]) * 100"
      ],
      "metadata": {
        "id": "mbIMc4kt4U5r"
      },
      "execution_count": null,
      "outputs": []
    },
    {
      "cell_type": "code",
      "source": [
        "acoes_df[\"RS CPLE\"] = (acoes_df[\"CPLE6.SA\"] / acoes_df[\"CPLE6.SA\"].shift(1) - 1)\n",
        "acoes_df[\"RS IBOV\"] = (acoes_df[\"^BVSP\"] / acoes_df[\"^BVSP\"].shift(1) - 1)\n",
        "acoes_df[\"RS WEGE\"] = (acoes_df[\"WEGE3.SA\"] / acoes_df[\"WEGE3.SA\"].shift(1) - 1)\n",
        "acoes_df[\"RS FLRY\"] = (acoes_df[\"FLRY3.SA\"] / acoes_df[\"FLRY3.SA\"].shift(1) - 1)\n",
        "acoes_df[\"RS PSSA\"] = (acoes_df[\"PSSA3.SA\"] / acoes_df[\"PSSA3.SA\"].shift(1) - 1)\n",
        "acoes_df[\"RS PRIO\"] = (acoes_df[\"PRIO3.SA\"] / acoes_df[\"PRIO3.SA\"].shift(1) - 1)\n",
        "acoes_df[\"RS VALE\"] = (acoes_df[\"VALE3.SA\"] / acoes_df[\"VALE3.SA\"].shift(1) - 1)"
      ],
      "metadata": {
        "id": "S0E9n8gX6q44"
      },
      "execution_count": null,
      "outputs": []
    },
    {
      "cell_type": "code",
      "source": [
        "acoes_df"
      ],
      "metadata": {
        "id": "muRgNUDWADG8"
      },
      "execution_count": null,
      "outputs": []
    },
    {
      "cell_type": "code",
      "source": [
        "acoes_df[\"RS CPLE\"].plot()"
      ],
      "metadata": {
        "colab": {
          "base_uri": "https://localhost:8080/",
          "height": 439
        },
        "collapsed": true,
        "id": "thorS5RX7I1j",
        "outputId": "190556c0-2381-493c-aa83-ddf7b97521c2"
      },
      "execution_count": null,
      "outputs": [
        {
          "output_type": "execute_result",
          "data": {
            "text/plain": [
              "<Axes: xlabel='Date'>"
            ]
          },
          "metadata": {},
          "execution_count": 16
        },
        {
          "output_type": "display_data",
          "data": {
            "text/plain": [
              "<Figure size 640x480 with 1 Axes>"
            ],
            "image/png": "[encoded data removed]"
          },
          "metadata": {}
        }
      ]
    },
    {
      "cell_type": "code",
      "source": [
        "acoes_df[\"RS CPLE\"].mean()"
      ],
      "metadata": {
        "colab": {
          "base_uri": "https://localhost:8080/"
        },
        "id": "RI2iu3xd8gk5",
        "outputId": "fe1008b5-934d-45d2-9969-f7bc6d5fb538"
      },
      "execution_count": null,
      "outputs": [
        {
          "output_type": "execute_result",
          "data": {
            "text/plain": [
              "0.0009712095063902504"
            ]
          },
          "metadata": {},
          "execution_count": 28
        }
      ]
    },
    {
      "cell_type": "code",
      "source": [
        "(acoes_df[\"RS CPLE\"].mean() * 246) * 100"
      ],
      "metadata": {
        "colab": {
          "base_uri": "https://localhost:8080/"
        },
        "id": "4wLAB4DX-SBj",
        "outputId": "54a86f8d-93e1-4795-fd68-7b63ada743df"
      },
      "execution_count": null,
      "outputs": [
        {
          "output_type": "execute_result",
          "data": {
            "text/plain": [
              "23.89175385720016"
            ]
          },
          "metadata": {},
          "execution_count": 29
        }
      ]
    },
    {
      "cell_type": "code",
      "source": [
        "acoes_df[\"RS IBOV\"].mean()"
      ],
      "metadata": {
        "colab": {
          "base_uri": "https://localhost:8080/"
        },
        "id": "GnpgmkJz88qE",
        "outputId": "476c35ef-12e2-4ecd-8034-f933445a0d3f"
      },
      "execution_count": null,
      "outputs": [
        {
          "output_type": "execute_result",
          "data": {
            "text/plain": [
              "0.00048188212875695073"
            ]
          },
          "metadata": {},
          "execution_count": 22
        }
      ]
    },
    {
      "cell_type": "code",
      "source": [
        "(acoes_df[\"RS IBOV\"].mean() * 246) *100\n"
      ],
      "metadata": {
        "colab": {
          "base_uri": "https://localhost:8080/"
        },
        "id": "qTNfNQNl-4pO",
        "outputId": "654aa1e9-5402-40a0-c4d7-1cc204282ba8"
      },
      "execution_count": null,
      "outputs": [
        {
          "output_type": "execute_result",
          "data": {
            "text/plain": [
              "11.854300367420988"
            ]
          },
          "metadata": {},
          "execution_count": 35
        }
      ]
    },
    {
      "cell_type": "code",
      "source": [
        "(acoes_df[\"RS WEGE\"].mean() * 246) *100"
      ],
      "metadata": {
        "colab": {
          "base_uri": "https://localhost:8080/"
        },
        "id": "6Iu1wOzMANeN",
        "outputId": "bc5f8f80-2e8b-432a-a900-5519cb5bc877"
      },
      "execution_count": null,
      "outputs": [
        {
          "output_type": "execute_result",
          "data": {
            "text/plain": [
              "26.635929515154324"
            ]
          },
          "metadata": {},
          "execution_count": 34
        }
      ]
    },
    {
      "cell_type": "code",
      "source": [
        "(acoes_df[\"RS FLRY\"].mean() * 246) *100"
      ],
      "metadata": {
        "colab": {
          "base_uri": "https://localhost:8080/"
        },
        "id": "7lw6tFyUAgKQ",
        "outputId": "e60f8db7-b775-42d5-c268-21b35684178e"
      },
      "execution_count": null,
      "outputs": [
        {
          "output_type": "execute_result",
          "data": {
            "text/plain": [
              "15.419995119479196"
            ]
          },
          "metadata": {},
          "execution_count": 36
        }
      ]
    },
    {
      "cell_type": "code",
      "source": [
        "(acoes_df[\"RS PSSA\"].mean() * 246) *100"
      ],
      "metadata": {
        "colab": {
          "base_uri": "https://localhost:8080/"
        },
        "id": "h-8k_3uVAh-w",
        "outputId": "873e6dbd-8620-495c-ddd8-4e53d1a2dbca"
      },
      "execution_count": null,
      "outputs": [
        {
          "output_type": "execute_result",
          "data": {
            "text/plain": [
              "16.308685288247958"
            ]
          },
          "metadata": {},
          "execution_count": 37
        }
      ]
    },
    {
      "cell_type": "code",
      "source": [
        "(acoes_df[\"RS PRIO\"].mean() * 246) *100"
      ],
      "metadata": {
        "colab": {
          "base_uri": "https://localhost:8080/"
        },
        "id": "SAxoHY6tAi9Y",
        "outputId": "4c44fcb3-eddb-442a-e4bd-c9715e0c7521"
      },
      "execution_count": null,
      "outputs": [
        {
          "output_type": "execute_result",
          "data": {
            "text/plain": [
              "72.1226214896867"
            ]
          },
          "metadata": {},
          "execution_count": 38
        }
      ]
    },
    {
      "cell_type": "code",
      "source": [
        "(acoes_df[\"RS VALE\"].mean() * 246) *100"
      ],
      "metadata": {
        "colab": {
          "base_uri": "https://localhost:8080/"
        },
        "id": "jGiFbjWCAkFY",
        "outputId": "00026d1c-1f7b-4d39-db1e-f9ba16bab61d"
      },
      "execution_count": null,
      "outputs": [
        {
          "output_type": "execute_result",
          "data": {
            "text/plain": [
              "26.579629181070523"
            ]
          },
          "metadata": {},
          "execution_count": 39
        }
      ]
    },
    {
      "cell_type": "markdown",
      "source": [
        "**Logarítmica**"
      ],
      "metadata": {
        "id": "SO8aFy5hg2ZP"
      }
    },
    {
      "cell_type": "code",
      "source": [
        "acoes_df[\"CPLE6.SA\"][0], acoes_df[\"CPLE6.SA\"][len(acoes_df) - 1]"
      ],
      "metadata": {
        "colab": {
          "base_uri": "https://localhost:8080/"
        },
        "id": "i_Slg7ANg9tm",
        "outputId": "9a74eaa5-7d3c-4063-bfa3-9157ea3efe72"
      },
      "execution_count": null,
      "outputs": [
        {
          "output_type": "execute_result",
          "data": {
            "text/plain": [
              "(1.749947428703308, 9.220000267028809)"
            ]
          },
          "metadata": {},
          "execution_count": 3
        }
      ]
    },
    {
      "cell_type": "code",
      "source": [
        "np.log(acoes_df[\"CPLE6.SA\"][len(acoes_df) - 1] / acoes_df[\"CPLE6.SA\"][0]) * 100"
      ],
      "metadata": {
        "colab": {
          "base_uri": "https://localhost:8080/"
        },
        "id": "QBjtFIgWhXU7",
        "outputId": "62a9cad1-9345-429e-8759-7328933612ee"
      },
      "execution_count": null,
      "outputs": [
        {
          "output_type": "execute_result",
          "data": {
            "text/plain": [
              "166.1789319787188"
            ]
          },
          "metadata": {},
          "execution_count": 7
        }
      ]
    },
    {
      "cell_type": "code",
      "source": [
        "np.log(acoes_df[\"WEGE3.SA\"][len(acoes_df) - 1] / acoes_df[\"WEGE3.SA\"][0]) * 100"
      ],
      "metadata": {
        "colab": {
          "base_uri": "https://localhost:8080/"
        },
        "id": "fW11nymgh9wl",
        "outputId": "e6e078eb-36ca-4bf4-9d0a-6cb8af0ffa0c"
      },
      "execution_count": null,
      "outputs": [
        {
          "output_type": "execute_result",
          "data": {
            "text/plain": [
              "202.11447446553947"
            ]
          },
          "metadata": {},
          "execution_count": 8
        }
      ]
    },
    {
      "cell_type": "code",
      "source": [
        "np.log(acoes_df[\"PSSA3.SA\"][len(acoes_df) - 1] / acoes_df[\"PSSA3.SA\"][0]) * 100"
      ],
      "metadata": {
        "colab": {
          "base_uri": "https://localhost:8080/"
        },
        "id": "jfMa5CaPiDBO",
        "outputId": "816b49cd-a4e1-413d-f4e8-f6fe3c915db9"
      },
      "execution_count": null,
      "outputs": [
        {
          "output_type": "execute_result",
          "data": {
            "text/plain": [
              "110.8887267813103"
            ]
          },
          "metadata": {},
          "execution_count": 9
        }
      ]
    },
    {
      "cell_type": "code",
      "source": [
        "acoes_df[\"RL CPLE\"] = np.log(acoes_df[\"CPLE6.SA\"] / acoes_df[\"CPLE6.SA\"].shift(1))\n",
        "acoes_df"
      ],
      "metadata": {
        "id": "40KdL7UmiGKW"
      },
      "execution_count": null,
      "outputs": []
    },
    {
      "cell_type": "code",
      "source": [
        "acoes_df[\"RL CPLE\"].mean()"
      ],
      "metadata": {
        "colab": {
          "base_uri": "https://localhost:8080/"
        },
        "id": "HmA4WnJEkGVY",
        "outputId": "da6eb3b7-e117-4997-f04e-3c5ed7218c9d"
      },
      "execution_count": null,
      "outputs": [
        {
          "output_type": "execute_result",
          "data": {
            "text/plain": [
              "0.00070835009368593"
            ]
          },
          "metadata": {},
          "execution_count": 11
        }
      ]
    },
    {
      "cell_type": "code",
      "source": [
        "(acoes_df[\"RL CPLE\"].mean() * 246)*100"
      ],
      "metadata": {
        "colab": {
          "base_uri": "https://localhost:8080/"
        },
        "id": "NHw1IfddkNsJ",
        "outputId": "7e874620-0b81-43e3-da37-aeb5c201ac54"
      },
      "execution_count": null,
      "outputs": [
        {
          "output_type": "execute_result",
          "data": {
            "text/plain": [
              "17.425412304673877"
            ]
          },
          "metadata": {},
          "execution_count": 12
        }
      ]
    },
    {
      "cell_type": "code",
      "source": [
        "acoes_normalizado = acoes_df.copy()\n",
        "for i in acoes_normalizado.columns[1:]:\n",
        "  acoes_normalizado[i] = (acoes_normalizado[i] / acoes_normalizado[i][0])"
      ],
      "metadata": {
        "id": "K7mMyhBnomx5"
      },
      "execution_count": null,
      "outputs": []
    },
    {
      "cell_type": "code",
      "source": [
        "acoes_normalizado"
      ],
      "metadata": {
        "id": "02C9KgF7wkOm"
      },
      "execution_count": null,
      "outputs": []
    },
    {
      "cell_type": "code",
      "source": [
        "acoes_normalizado = acoes_normalizado.reset_index()\n",
        "acoes_normalizado.drop(labels=[\"Date\"], axis=1, inplace=True)\n",
        "acoes_normalizado"
      ],
      "metadata": {
        "id": "G-sKfR6VwGMz"
      },
      "execution_count": null,
      "outputs": []
    },
    {
      "cell_type": "code",
      "source": [
        "retorno_carteira = (acoes_normalizado / acoes_normalizado.shift(1)) - 1\n",
        "retorno_anual = retorno_carteira.mean() * 246\n",
        "retorno_anual"
      ],
      "metadata": {
        "id": "ycU_H10Kyu8o"
      },
      "execution_count": null,
      "outputs": []
    },
    {
      "cell_type": "code",
      "source": [
        "pesos_carteira = np.array([0.1667, 0.16666, 0.16666, 0.16666, 0.16666, 0.16666])\n",
        "pesos_carteira.sum()\n",
        "np.dot(retorno_anual, pesos_carteira)"
      ],
      "metadata": {
        "id": "ak-PJ-Py5e8U"
      },
      "execution_count": null,
      "outputs": []
    },
    {
      "cell_type": "markdown",
      "source": [
        "**Carteira x IBOV**"
      ],
      "metadata": {
        "id": "Ohcla8ClVIHm"
      }
    },
    {
      "cell_type": "code",
      "source": [
        " acoes_normalizado = acoes_normalizado.reset_index()\n",
        " acoes_normalizado[\"Carteira\"] = (acoes_normalizado[\"CPLE6.SA\"] + acoes_normalizado[\"WEGE3.SA\"] + acoes_normalizado[\"PSSA3.SA\"] + acoes_normalizado[\"FLRY3.SA\"] + acoes_normalizado[\"VALE3.SA\"] + acoes_normalizado[\"CPLE6.SA\"] + acoes_normalizado[\"^BVSP\"]) / 6"
      ],
      "metadata": {
        "id": "WGDJ5-frVU-X"
      },
      "execution_count": null,
      "outputs": []
    },
    {
      "cell_type": "code",
      "source": [
        "figura = px.line(title = \"Carteira x IBOV\")\n",
        "for i in acoes_normalizado.columns[1:]:\n",
        "  figura.add_scatter(x = acoes_normalizado[\"Date\"], y = acoes_normalizado[i], name = i)\n",
        "  figura.show()"
      ],
      "metadata": {
        "id": "Opq1XYjXWw74"
      },
      "execution_count": null,
      "outputs": []
    },
    {
      "cell_type": "markdown",
      "source": [
        "## **Risco**"
      ],
      "metadata": {
        "id": "vQnnd8G2uiCY"
      }
    },
    {
      "cell_type": "code",
      "source": [
        "acoes_df = acoes_df.reset_index()\n",
        "acoes_df[\"CPLE6.SA\"][acoes_df[\"Date\"] == \"2015-01-02\"], acoes_df[\"CPLE6.SA\"][acoes_df[\"Date\"] == \"2015-12-30\"]"
      ],
      "metadata": {
        "id": "9SelA-Waup9J"
      },
      "execution_count": null,
      "outputs": []
    },
    {
      "cell_type": "code",
      "source": [],
      "metadata": {
        "id": "8as1Pze01eyg"
      },
      "execution_count": null,
      "outputs": []
    },
    {
      "cell_type": "markdown",
      "source": [
        "## **Modelo CAPM**"
      ],
      "metadata": {
        "id": "rAkhOBmM1IB0"
      }
    },
    {
      "cell_type": "code",
      "source": [
        "acoes_df = acoes_df.reset_index()\n",
        "acoes_df.drop(labels =[\"Date\"], axis = 1, inplace = True)\n",
        "acoes_df"
      ],
      "metadata": {
        "id": "SGCNiiWm1dCe"
      },
      "execution_count": null,
      "outputs": []
    },
    {
      "cell_type": "code",
      "source": [
        "acoes_normalizado = acoes_df.copy()\n",
        "for i in acoes_df.columns:\n",
        "  acoes_normalizado[i] = acoes_df[i] / acoes_df[i][0]\n",
        "\n",
        "acoes_normalizado"
      ],
      "metadata": {
        "id": "4l_Efbt91-uB"
      },
      "execution_count": null,
      "outputs": []
    },
    {
      "cell_type": "code",
      "source": [
        "acoes_df_taxaretorno = (acoes_normalizado / acoes_normalizado.shift(1)) - 1\n",
        "acoes_df_taxaretorno.fillna(0, inplace = True)\n",
        "acoes_df_taxaretorno.mean() * 246"
      ],
      "metadata": {
        "id": "Xfb4XbC-2qCE"
      },
      "execution_count": null,
      "outputs": []
    },
    {
      "cell_type": "code",
      "source": [
        "figura = px.scatter(acoes_df_taxaretorno, x = \"^BVSP\", y = \"WEGE3.SA\")\n",
        "figura.show()"
      ],
      "metadata": {
        "id": "IT2rae3C5vqC"
      },
      "execution_count": null,
      "outputs": []
    },
    {
      "cell_type": "markdown",
      "source": [
        "**Encontrando os betas**"
      ],
      "metadata": {
        "id": "pDp7lY7O76S9"
      }
    },
    {
      "cell_type": "code",
      "source": [
        "beta_wege, alpha = np.polyfit(x = acoes_df_taxaretorno[\"^BVSP\"], y = acoes_df_taxaretorno[\"WEGE3.SA\"], deg = 1)\n",
        "print(\"beta:\", beta_wege, \"alpha:\", alpha)"
      ],
      "metadata": {
        "colab": {
          "base_uri": "https://localhost:8080/"
        },
        "id": "x1KojfDf7T9K",
        "outputId": "77ab0a2c-dc32-4fac-b05d-98108197dfab"
      },
      "execution_count": 37,
      "outputs": [
        {
          "output_type": "stream",
          "name": "stdout",
          "text": [
            "beta: 0.7060311040563506 alpha: 0.0007592338927719869\n"
          ]
        }
      ]
    },
    {
      "cell_type": "code",
      "source": [
        "beta_flry, alpha1 = np.polyfit(x = acoes_df_taxaretorno[\"^BVSP\"], y = acoes_df_taxaretorno[\"FLRY3.SA\"], deg = 1)\n",
        "print(\"beta:\", beta_flry, \"alpha:\", alpha1)"
      ],
      "metadata": {
        "colab": {
          "base_uri": "https://localhost:8080/"
        },
        "id": "ecWKuev27-bk",
        "outputId": "bc018545-08f8-4a46-912c-fc1d998603da"
      },
      "execution_count": 38,
      "outputs": [
        {
          "output_type": "stream",
          "name": "stdout",
          "text": [
            "beta: 0.6630806768480029 alpha: 0.0003017899386566708\n"
          ]
        }
      ]
    },
    {
      "cell_type": "code",
      "source": [
        "beta_cple, alpha2 = np.polyfit(x = acoes_df_taxaretorno[\"^BVSP\"], y = acoes_df_taxaretorno[\"CPLE6.SA\"], deg = 1)\n",
        "print(\"beta:\", beta_cple, \"alpha:\", alpha2)"
      ],
      "metadata": {
        "colab": {
          "base_uri": "https://localhost:8080/"
        },
        "id": "LzzrV4TI8SHA",
        "outputId": "2c3ed23e-03d5-4c16-d6d4-07b89674e309"
      },
      "execution_count": 39,
      "outputs": [
        {
          "output_type": "stream",
          "name": "stdout",
          "text": [
            "beta: 0.9615380842090321 alpha: 0.0005128378947274824\n"
          ]
        }
      ]
    },
    {
      "cell_type": "code",
      "source": [
        "beta_pssa, alpha3 = np.polyfit(x = acoes_df_taxaretorno[\"^BVSP\"], y = acoes_df_taxaretorno[\"PSSA3.SA\"], deg = 1)\n",
        "print(\"beta:\", beta_pssa, \"alpha:\", alpha3)"
      ],
      "metadata": {
        "colab": {
          "base_uri": "https://localhost:8080/"
        },
        "id": "Sv6pCfgz8Z7a",
        "outputId": "fbf391ba-96b3-43b1-e76e-26bc08448358"
      },
      "execution_count": 40,
      "outputs": [
        {
          "output_type": "stream",
          "name": "stdout",
          "text": [
            "beta: 0.5621183425946544 alpha: 0.00038889612254010893\n"
          ]
        }
      ]
    },
    {
      "cell_type": "code",
      "source": [
        "beta_vale, alpha4 = np.polyfit(x = acoes_df_taxaretorno[\"^BVSP\"], y = acoes_df_taxaretorno[\"VALE3.SA\"], deg = 1)\n",
        "print(\"beta:\", beta_vale, \"alpha:\", alpha4)"
      ],
      "metadata": {
        "colab": {
          "base_uri": "https://localhost:8080/"
        },
        "id": "GH47QEDW8iZq",
        "outputId": "ca29921f-46f8-443f-cb95-8243a10db513"
      },
      "execution_count": 41,
      "outputs": [
        {
          "output_type": "stream",
          "name": "stdout",
          "text": [
            "beta: 1.0650910101085427 alpha: 0.0005728619678279516\n"
          ]
        }
      ]
    },
    {
      "cell_type": "markdown",
      "source": [
        "**Fazendo gráfico**"
      ],
      "metadata": {
        "id": "-2qEH2VMEXn6"
      }
    },
    {
      "cell_type": "code",
      "source": [
        "figura = px.scatter(acoes_df_taxaretorno, x = \"^BVSP\", y = \"WEGE3.SA\")\n",
        "figura.add_scatter(x = acoes_df_taxaretorno[\"^BVSP\"], y = beta_wege * acoes_df_taxaretorno[\"^BVSP\"] + alpha)\n",
        "figura.show()"
      ],
      "metadata": {
        "id": "wVMUz0Vu_1d-"
      },
      "execution_count": null,
      "outputs": []
    },
    {
      "cell_type": "code",
      "source": [
        "figura1 = px.scatter(acoes_df_taxaretorno, x = \"^BVSP\", y = \"FLRY3.SA\")\n",
        "figura1.add_scatter(x = acoes_df_taxaretorno[\"^BVSP\"], y = beta_flry * acoes_df_taxaretorno[\"^BVSP\"] + alpha1)\n",
        "figura1.show()"
      ],
      "metadata": {
        "id": "Dxg9XSAiCwdH"
      },
      "execution_count": null,
      "outputs": []
    },
    {
      "cell_type": "markdown",
      "source": [
        "**Cálculo do CAPM**"
      ],
      "metadata": {
        "id": "SRV5z1qjc_B6"
      }
    },
    {
      "cell_type": "code",
      "source": [
        "rm = acoes_df_taxaretorno[\"^BVSP\"].mean() * 246\n",
        "rm"
      ],
      "metadata": {
        "id": "n_7ldHvbdDla"
      },
      "execution_count": null,
      "outputs": []
    },
    {
      "cell_type": "code",
      "source": [
        "acoes_df_taxaretorno"
      ],
      "metadata": {
        "id": "MgaKV2S5kPV2"
      },
      "execution_count": null,
      "outputs": []
    },
    {
      "cell_type": "code",
      "source": [
        "taxa_selic_historica = np.array([13.37, 14.08, 10.08, 6.49, 5.94, 2.79, 4.42, 12.43, 13.2, 11])\n",
        "rf = taxa_selic_historica.mean() / 100\n",
        "rf"
      ],
      "metadata": {
        "id": "r8Yr0m2tfBiO"
      },
      "execution_count": null,
      "outputs": []
    },
    {
      "cell_type": "code",
      "source": [
        "capm_wege = rf + (beta_wege * (rm - rf))\n",
        "capm_wege"
      ],
      "metadata": {
        "colab": {
          "base_uri": "https://localhost:8080/"
        },
        "id": "9S0xSuVhk33C",
        "outputId": "02dc81c6-3d35-4a2c-d6f8-0282549a5088"
      },
      "execution_count": 36,
      "outputs": [
        {
          "output_type": "execute_result",
          "data": {
            "text/plain": [
              "0.11002583271479836"
            ]
          },
          "metadata": {},
          "execution_count": 36
        }
      ]
    },
    {
      "cell_type": "markdown",
      "source": [
        "**Alfa e Beta automatizado**"
      ],
      "metadata": {
        "id": "Ri7K8jWQnCIt"
      }
    },
    {
      "cell_type": "code",
      "source": [
        "betas = []\n",
        "alphas = []\n",
        "for ativo in acoes_df_taxaretorno.columns[2:7]:\n",
        "  beta, alpha = np.polyfit(acoes_df_taxaretorno[\"^BVSP\"], acoes_df_taxaretorno[ativo], 1)\n",
        "  betas.append(beta)\n",
        "  alphas.append(alpha)\n",
        "betas"
      ],
      "metadata": {
        "id": "TQS2oyoNl7l5"
      },
      "execution_count": null,
      "outputs": []
    },
    {
      "cell_type": "code",
      "source": [
        "def visualiza_alfa_beta(betas, alphas):\n",
        "  for i, ativo in enumerate(acoes_df_taxaretorno.columns[2:7]):\n",
        "    print(ativo, \"beta:\", betas[i], \"alpha:\", alphas[i] * 100)\n",
        "visualiza_alfa_beta(betas, alphas)"
      ],
      "metadata": {
        "colab": {
          "base_uri": "https://localhost:8080/"
        },
        "id": "u5nZSozqnBO3",
        "outputId": "e8c47c92-0db0-40c2-c132-13ce16fef061"
      },
      "execution_count": 52,
      "outputs": [
        {
          "output_type": "stream",
          "name": "stdout",
          "text": [
            "CPLE6.SA beta: 0.9615380842090321 alpha: 0.05128378947274823\n",
            "FLRY3.SA beta: 0.6630806768480029 alpha: 0.030178993865667077\n",
            "PSSA3.SA beta: 0.5621183425946544 alpha: 0.03888961225401089\n",
            "VALE3.SA beta: 1.0650910101085427 alpha: 0.05728619678279516\n",
            "WEGE3.SA beta: 0.7060311040563506 alpha: 0.07592338927719869\n"
          ]
        }
      ]
    },
    {
      "cell_type": "code",
      "source": [
        "np.array(alphas).mean() * 100"
      ],
      "metadata": {
        "colab": {
          "base_uri": "https://localhost:8080/"
        },
        "id": "srkVR_dtonbx",
        "outputId": "de13496f-84ad-4986-826f-aea5c4bbaf5e"
      },
      "execution_count": 53,
      "outputs": [
        {
          "output_type": "execute_result",
          "data": {
            "text/plain": [
              "0.050712396330484015"
            ]
          },
          "metadata": {},
          "execution_count": 53
        }
      ]
    },
    {
      "cell_type": "markdown",
      "source": [
        "**CAPM Carteira**"
      ],
      "metadata": {
        "id": "Dfy4YGmzo3qo"
      }
    },
    {
      "cell_type": "code",
      "source": [
        "capm_carteira = []\n",
        "for i, ativo in enumerate(acoes_df_taxaretorno.columns[2:7]):\n",
        "  capm_carteira.append(rf + (betas[i] * (rm - rf)))\n",
        "capm_carteira"
      ],
      "metadata": {
        "colab": {
          "base_uri": "https://localhost:8080/"
        },
        "id": "wYwR9ueSo747",
        "outputId": "c0118c91-8e83-46d1-8932-cbab49712996"
      },
      "execution_count": 56,
      "outputs": [
        {
          "output_type": "execute_result",
          "data": {
            "text/plain": [
              "[0.1158978311205369,\n",
              " 0.1090387565889622,\n",
              " 0.10671846512208705,\n",
              " 0.1182776589257426,\n",
              " 0.11002583271479836]"
            ]
          },
          "metadata": {},
          "execution_count": 56
        }
      ]
    },
    {
      "cell_type": "code",
      "source": [
        "def visualiza_carteira(capm):\n",
        "  for i, ativo in enumerate(acoes_df_taxaretorno.columns[2:7]):\n",
        "    print(ativo, \"CAPM\", capm[i] * 100)\n",
        "visualiza_carteira(capm_carteira)"
      ],
      "metadata": {
        "colab": {
          "base_uri": "https://localhost:8080/"
        },
        "id": "hl40dmD6pz3o",
        "outputId": "37d9629d-8a78-4b62-e9ef-23d641f1f473"
      },
      "execution_count": 60,
      "outputs": [
        {
          "output_type": "stream",
          "name": "stdout",
          "text": [
            "CPLE6.SA CAPM 11.589783112053691\n",
            "FLRY3.SA CAPM 10.90387565889622\n",
            "PSSA3.SA CAPM 10.671846512208704\n",
            "VALE3.SA CAPM 11.82776589257426\n",
            "WEGE3.SA CAPM 11.002583271479836\n"
          ]
        }
      ]
    },
    {
      "cell_type": "code",
      "source": [
        "pesos = np.array([0.2, 0.2, 0.2, 0.2, 0.2]) * 100\n",
        "capm_portfolio = np.sum(capm_carteira * pesos)\n",
        "capm_portfolio"
      ],
      "metadata": {
        "colab": {
          "base_uri": "https://localhost:8080/"
        },
        "id": "A9QtKKRuq_i3",
        "outputId": "fdb34b78-7882-4905-aa00-5d98493a90af"
      },
      "execution_count": 64,
      "outputs": [
        {
          "output_type": "execute_result",
          "data": {
            "text/plain": [
              "11.199170889442541"
            ]
          },
          "metadata": {},
          "execution_count": 64
        }
      ]
    }
  ]
}